{
 "cells": [
  {
   "cell_type": "markdown",
   "metadata": {
    "slideshow": {
     "slide_type": "slide"
    }
   },
   "source": [
    "**CS560 - Algorithms and Their Analysis**\n",
    "\n",
    "Title: **Homework 2**\n",
    "\n",
    "Date: **23 September 2020**\n",
    "<br>\n",
    "Deadline: **30 September May 2020, 17:30**\n",
    "\n",
    "Homework will be evaluated maximum by **5 points**.\n",
    "<br>\n",
    "Each problem is **one point**. "
   ]
  },
  {
   "cell_type": "markdown",
   "metadata": {
    "slideshow": {
     "slide_type": "slide"
    }
   },
   "source": [
    "<h3 align=\"center\">Problem 1: Power of A</h3>\n",
    "\n",
    "\n",
    "- We need to calculate the power of $a$ for a given $n$, i.e. $a^n$.\n",
    "\n",
    "\n",
    "1. Write the code that takes $\\Theta(n)$ time using **brute force**.\n",
    "\n",
    "\n",
    "3. Write the code that takes $\\Theta(\\lg n)$ time using **recursion**.\n"
   ]
  },
  {
   "cell_type": "code",
   "execution_count": 1,
   "metadata": {},
   "outputs": [],
   "source": [
    "def brute_force(a, n):\n",
    "    multiplier = a\n",
    "    for _ in range(n - 1):\n",
    "        a *= multiplier\n",
    "    return a"
   ]
  },
  {
   "cell_type": "code",
   "execution_count": 2,
   "metadata": {},
   "outputs": [
    {
     "name": "stdout",
     "output_type": "stream",
     "text": [
      "243\n"
     ]
    }
   ],
   "source": [
    "print(brute_force(3, 5))"
   ]
  },
  {
   "cell_type": "code",
   "execution_count": 3,
   "metadata": {},
   "outputs": [],
   "source": [
    "def recursion(a, n):\n",
    "    if n == 0:\n",
    "        return 1\n",
    "    if n == 1:\n",
    "        return a\n",
    "    if n&1:\n",
    "        return a*recursion(a, (n-1)//2)*recursion(a, (n-1)//2)\n",
    "    else:\n",
    "        return recursion(a, n//2)*recursion(a, n//2)"
   ]
  },
  {
   "cell_type": "code",
   "execution_count": 4,
   "metadata": {},
   "outputs": [
    {
     "name": "stdout",
     "output_type": "stream",
     "text": [
      "243\n"
     ]
    }
   ],
   "source": [
    "print(recursion(3, 5))"
   ]
  },
  {
   "cell_type": "markdown",
   "metadata": {
    "slideshow": {
     "slide_type": "slide"
    }
   },
   "source": [
    "<h3 align=\"center\">Problem 2: Matrix Multiplication</h3>\n",
    "\n",
    "- In the lecture, we figured out how to **multiply two matrices** of size $2^n \\times 2^n$ using the Python.\n",
    "\n",
    "\n",
    "1. Write the code that **multiply two square matrix** of size $n \\times n$ for any $n\\in \\mathbb{N}$."
   ]
  },
  {
   "cell_type": "code",
   "execution_count": 5,
   "metadata": {},
   "outputs": [],
   "source": [
    "###########################\n",
    "#when we have n that is odd\n",
    "#we will need to change the\n",
    "#size of matrix so that \n",
    "#it is a power of two \n",
    "#we need to append zeroes \n",
    "#for that purpose\n",
    "\n",
    "import numpy as np\n",
    "\n",
    "def size_change(actual):\n",
    "    return np.int(np.power(2, np.ceil(np.log2(actual))))\n",
    "\n",
    "def divide(A):\n",
    "    N, _ = A.shape\n",
    "    new = N\n",
    "    if N&1:\n",
    "        new = size_change(N)\n",
    "        #create zero matrix of size new\n",
    "        zeroes = np.zeros((new, new))\n",
    "        zeroes[:N, :N] = A\n",
    "        A = zeroes\n",
    "    n = new//2\n",
    "    A11 = A[:n, :n]\n",
    "    A12 = A[:n, n:]\n",
    "    A21 = A[n:, :n]\n",
    "    A22 = A[n:, n:]\n",
    "           \n",
    "    return A11, A12, A21, A22, N, new"
   ]
  },
  {
   "cell_type": "code",
   "execution_count": 6,
   "metadata": {},
   "outputs": [],
   "source": [
    "#code from lecture slides with a tiny modification\n",
    "def squareMatrixMultiplicationStrassen(A, B): \n",
    "    \"\"\" \n",
    "    Computes matrix product by D&C approach, recursively. \n",
    "    Input: n x n matrix A and n x n marix Y \n",
    "    Output: n x n matrix, product of A and B \n",
    "    \"\"\"\n",
    "    # Base case when size of matrices is 1x1 \n",
    "    if len(A) == 1: \n",
    "        return A * B \n",
    "  \n",
    "    # Splitting the matrices into quadrants recursively.\n",
    "    A11, A12, A21, A22, N, new = divide(A) \n",
    "    B11, B12, B21, B22, _, _ = divide(B) \n",
    "\n",
    "    # Computing the 7 products, recursively (p1, p2...p7) \n",
    "    p1 = squareMatrixMultiplicationStrassen(A11, B12 - B22)\n",
    "    p2 = squareMatrixMultiplicationStrassen(A11 + A12, B22)\n",
    "    p3 = squareMatrixMultiplicationStrassen(A21 + A22, B11)\n",
    "    p4 = squareMatrixMultiplicationStrassen(A22, B21 - B11)\n",
    "    p5 = squareMatrixMultiplicationStrassen(A11 + A22, B11 + B22)\n",
    "    p6 = squareMatrixMultiplicationStrassen(A12 - A22, B21 + B22)\n",
    "    p7 = squareMatrixMultiplicationStrassen(A11 - A21, B11 + B12)\n",
    "    \n",
    "\n",
    "    # Computing the values of the 4 quadrants of the final matrix c \n",
    "    C11 = p5 + p4 - p2 + p6   \n",
    "    C12 = p1 + p2            \n",
    "    C21 = p3 + p4             \n",
    "    C22 = p1 + p5 - p3 - p7   \n",
    "  \n",
    "    # Combining the 4 quadrants into a single matrix by stacking horizontally and vertically. \n",
    "    C = np.vstack((np.hstack((C11, C12)), np.hstack((C21, C22))))  \n",
    "    \n",
    "    #resizing to n, n\n",
    "    C = C[:N, :N]\n",
    "\n",
    "    return C"
   ]
  },
  {
   "cell_type": "code",
   "execution_count": 7,
   "metadata": {},
   "outputs": [],
   "source": [
    "A = np.random.randint(50, size=(5, 5))\n",
    "B = np.random.randint(99, size=(5, 5))"
   ]
  },
  {
   "cell_type": "code",
   "execution_count": 8,
   "metadata": {},
   "outputs": [
    {
     "data": {
      "text/plain": [
       "array([[10116., 14452., 10307.,  8257., 12281.],\n",
       "       [ 5836.,  7379.,  5402.,  4579.,  6758.],\n",
       "       [ 6647., 10489.,  7288.,  5366.,  8287.],\n",
       "       [ 6807.,  9920.,  7225.,  5587.,  7403.],\n",
       "       [ 5619.,  9963.,  5799.,  4870.,  8753.]])"
      ]
     },
     "execution_count": 8,
     "metadata": {},
     "output_type": "execute_result"
    }
   ],
   "source": [
    "squareMatrixMultiplicationStrassen(A, B)"
   ]
  },
  {
   "cell_type": "markdown",
   "metadata": {
    "slideshow": {
     "slide_type": "slide"
    }
   },
   "source": [
    "<h3 align=\"center\">Problem 3: Using the Master Method</h3>\n",
    "\n",
    "- For each of the following **recurrences**, give an **expression** for the **runtime** $T (n)$ if the recurrence **can be solved** with the **Master Theorem**.\n",
    "\n",
    "\n",
    "\n",
    "1. $T(n) = 4T(n/2) + c \\cdot n$\n",
    "\n",
    "\n",
    "2. $T(n) = 4T(n/2) + c \\cdot n^2$\n",
    "\n",
    "\n",
    "3. $T(n) = 16T(n/4) + n!$\n"
   ]
  },
  {
   "cell_type": "markdown",
   "metadata": {},
   "source": [
    " 1. Here we have $a = 4$ $b = 2$ and $f(n) = c n$ and we have $cn = O(n^{\\log_2 4-\\epsilon}) \\rightarrow cn = O(n^{2-1})$ where $\\epsilon = 1$. Which means that this falls into the first case of the master's method. Therefore $T(n) = \\theta (n^{\\log_2 4}) = \\theta(n^2)$\n",
    " \n",
    " \n",
    " 2. Here we have $a = 4$ $b = 2$ and $f(n) = c n^2$ and we have $cn^2 = \\theta (n^{\\log_2 4})$. This is the second case of the master's method. Therefore $T(n) = \\theta(n^{\\log_2 4} lg n) = \\theta(n^2 lgn)$\n",
    " \n",
    " \n",
    " 3. Here we have $a = 16$ $b = 4$ and $f(n) = n!$ and we have $n! = \\Omega (n^{\\log_4 16+ \\epsilon})$ Factorials grow faster than exponential functions. We can choose for instance $\\epsilon = 3$ to satisfy the condition that $\\epsilon \\gt 0$. We have $2 f(\\frac{n} {4}) \\le cf(n)$ let's choose $c = \\frac {1} {3}$ (c < 1) we will have $2 \\frac {n} {4}! \\le n! \\frac {1} {3}$ Therefore this one falls into third case of the master's method. We have $T(n) = \\theta (n!)$"
   ]
  },
  {
   "cell_type": "markdown",
   "metadata": {
    "slideshow": {
     "slide_type": "slide"
    }
   },
   "source": [
    "<h3 align=\"center\">Problem 4: Building a Heap Using Insertion</h3>\n",
    "\n",
    "- We can build a **heap** by repeatedly calling `insertMax` procedure introduced for **priority queue** to insert the elements into the heap.\n",
    "\n",
    "\n",
    "- To do this, lets consider the following variation on the `buildMaxHeap` procedure:"
   ]
  },
  {
   "cell_type": "code",
   "execution_count": 9,
   "metadata": {},
   "outputs": [],
   "source": [
    "def buildMaxHeap2(A):\n",
    "    heapsize = 1\n",
    "    for i in range (1, len(A)-1):\n",
    "        insertMax(A, A[i])"
   ]
  },
  {
   "cell_type": "code",
   "execution_count": 10,
   "metadata": {},
   "outputs": [],
   "source": [
    "import numpy as np\n",
    "def insertMax(A, key):\n",
    "    global heapsize\n",
    "    heapsize = heapsize + 1\n",
    "    A[heapsize] = - np.inf\n",
    "    increaseKey(A, heapsize, key)"
   ]
  },
  {
   "cell_type": "markdown",
   "metadata": {},
   "source": [
    "1. Do the procedures `buildMaxHeap` and `buildMaxHeap2` always create the same heap when run on the same input array? \n",
    "\n",
    "   **Note**: If they do not, provide a counterexample!"
   ]
  },
  {
   "cell_type": "markdown",
   "metadata": {},
   "source": [
    "No they don't have the same results, for instance suppose we have and array A = [7, 16, 25]\n",
    "\n",
    "Using buildMaxHeap we will get: \n",
    "    $$[7, 16, 25] \\rightarrow [25, 16, 7]$$\n",
    "\n",
    "Using buildMaxHeap2 we will get:\n",
    "    $$[7] \\rightarrow [16, 7] \\rightarrow [25, 7, 16]$$\n",
    "\n"
   ]
  },
  {
   "cell_type": "markdown",
   "metadata": {
    "slideshow": {
     "slide_type": "slide"
    }
   },
   "source": [
    "<h3 align=\"center\">Problem 5: Merge Sorted Subsequences</h3>\n",
    "\n",
    "- One of the **real problems** with using **min heap** is **merging** a **large number of subsequences**, sorted in **ascending order**, into one such **sequence**.\n",
    "\n",
    "\n",
    "- After a **min heap** of $n$ elements has been built from the **first elements** of the $n$ **subsequences**, **min heap** provides the operations to **pop** the **minimum element** off the **min heap** and **heapify** the now $n-1$ **element heap**.\n",
    "\n",
    "\n",
    "- If the **sequence** from which that min element comes has **another element**, to **push** it onto the **min heap** and **heapify** the now $n$ **element heap**. \n",
    "\n",
    "\n",
    "\n",
    "1. Write a code that takes as an **input** the **multiple sorted subsequences** and **merge** them in **one** using **min heap**."
   ]
  },
  {
   "cell_type": "code",
   "execution_count": 11,
   "metadata": {},
   "outputs": [],
   "source": [
    "def parent(i):\n",
    "    return (i-1)//2\n",
    "\n",
    "def left(i):\n",
    "    return 2*i + 1\n",
    "\n",
    "def right(i):\n",
    "    return 2*i + 2"
   ]
  },
  {
   "cell_type": "code",
   "execution_count": 12,
   "metadata": {},
   "outputs": [],
   "source": [
    "def minHeapify(A, i):\n",
    "    global heapsize\n",
    "    l = left(i)\n",
    "    r = right(i)\n",
    "    if l<=heapsize and A[l] < A[i]:\n",
    "        smallest = l\n",
    "    else:\n",
    "        smallest = i\n",
    "    if r<=heapsize and A[r] < A[smallest]:\n",
    "        smallest = r   \n",
    "    if smallest!=i:\n",
    "        exchange(A, i, smallest)\n",
    "        minHeapify(A, smallest)"
   ]
  },
  {
   "cell_type": "code",
   "execution_count": 13,
   "metadata": {},
   "outputs": [],
   "source": [
    "def exchange(A, i, j):\n",
    "    temp = A[i]\n",
    "    A[i] = A[j]\n",
    "    A[j] = temp"
   ]
  },
  {
   "cell_type": "code",
   "execution_count": 14,
   "metadata": {},
   "outputs": [],
   "source": [
    "def buildMinHeap(A):\n",
    "    heapsize = len(A) - 1\n",
    "    for i in range(len(A)//2-1, -1, -1):\n",
    "        minHeapify(A, i)"
   ]
  },
  {
   "cell_type": "code",
   "execution_count": 15,
   "metadata": {},
   "outputs": [],
   "source": [
    "def insertMin(A, key):\n",
    "    global heapsize\n",
    "    heapsize = heapsize + 1\n",
    "    A[heapsize] = np.inf\n",
    "    decreaseKey(A, heapsize, key)"
   ]
  },
  {
   "cell_type": "code",
   "execution_count": 16,
   "metadata": {},
   "outputs": [],
   "source": [
    "def minimum(A):\n",
    "    return A[0]"
   ]
  },
  {
   "cell_type": "code",
   "execution_count": 17,
   "metadata": {},
   "outputs": [],
   "source": [
    "def extractMin(A):\n",
    "    global heapsize\n",
    "    if heapsize < 1:\n",
    "        return -1\n",
    "    min = minimum(A)\n",
    "    A[0] = A[heapsize]\n",
    "    heapsize = heapsize - 1\n",
    "    minHeapify(A, 0)\n",
    "    return min"
   ]
  },
  {
   "cell_type": "code",
   "execution_count": 18,
   "metadata": {},
   "outputs": [],
   "source": [
    "def decreaseKey(A, i, key):\n",
    "    if key > A[i]:\n",
    "        return -1\n",
    "    A[i] = key\n",
    "    while i > 0 and A[parent(i)] > A[i]:\n",
    "        exchange(A, i, parent(i))\n",
    "        i = parent(i)"
   ]
  },
  {
   "cell_type": "code",
   "execution_count": 19,
   "metadata": {},
   "outputs": [],
   "source": [
    "def merge(*args):\n",
    "    arr = []\n",
    "    global heapsize\n",
    "    heapsize = 0\n",
    "    \n",
    "    for arg in args:\n",
    "        arr += arg\n",
    "        heapsize += len(arg)\n",
    "    heapsize -= 1\n",
    "    size = heapsize + 1\n",
    "    buildMinHeap(arr)\n",
    "    minheap = arr\n",
    "    merged = []\n",
    "    for i in range(size):\n",
    "        if heapsize < 1:\n",
    "            break\n",
    "        min = extractMin(minheap)\n",
    "        print(minheap, min)\n",
    "        merged.append(min)\n",
    "    merged.append(minheap[0])\n",
    "    return merged"
   ]
  },
  {
   "cell_type": "code",
   "execution_count": 20,
   "metadata": {},
   "outputs": [
    {
     "name": "stdout",
     "output_type": "stream",
     "text": [
      "[1, 2, 3, 5, 2, 3, 4, 9, 6, 7, 8, 9] 1\n",
      "[2, 2, 3, 5, 7, 3, 4, 9, 6, 8, 8, 9] 1\n",
      "[2, 5, 3, 6, 7, 3, 4, 9, 8, 8, 8, 9] 2\n",
      "[3, 5, 3, 6, 7, 8, 4, 9, 8, 8, 8, 9] 2\n",
      "[3, 5, 4, 6, 7, 8, 9, 9, 8, 8, 8, 9] 3\n",
      "[4, 5, 8, 6, 7, 9, 9, 9, 8, 8, 8, 9] 3\n",
      "[5, 6, 8, 9, 7, 9, 9, 9, 8, 8, 8, 9] 4\n",
      "[6, 7, 8, 9, 7, 9, 9, 9, 8, 8, 8, 9] 5\n",
      "[7, 9, 8, 9, 7, 9, 9, 9, 8, 8, 8, 9] 6\n",
      "[8, 9, 8, 9, 7, 9, 9, 9, 8, 8, 8, 9] 7\n",
      "[9, 9, 8, 9, 7, 9, 9, 9, 8, 8, 8, 9] 8\n"
     ]
    },
    {
     "data": {
      "text/plain": [
       "[1, 1, 2, 2, 3, 3, 4, 5, 6, 7, 8, 9]"
      ]
     },
     "execution_count": 20,
     "metadata": {},
     "output_type": "execute_result"
    }
   ],
   "source": [
    "merge([1, 2, 3], [1, 2, 3], [4, 5, 6], [7, 8, 9])"
   ]
  }
 ],
 "metadata": {
  "celltoolbar": "Slideshow",
  "kernelspec": {
   "display_name": "Python 3",
   "language": "python",
   "name": "python3"
  },
  "language_info": {
   "codemirror_mode": {
    "name": "ipython",
    "version": 3
   },
   "file_extension": ".py",
   "mimetype": "text/x-python",
   "name": "python",
   "nbconvert_exporter": "python",
   "pygments_lexer": "ipython3",
   "version": "3.8.5"
  }
 },
 "nbformat": 4,
 "nbformat_minor": 2
}
